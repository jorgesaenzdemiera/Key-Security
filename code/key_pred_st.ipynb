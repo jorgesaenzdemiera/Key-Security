{
 "cells": [
  {
   "cell_type": "code",
   "execution_count": 11,
   "metadata": {},
   "outputs": [],
   "source": [
    "import pandas as pd\n",
    "import numpy as np\n",
    "import matplotlib.pyplot as plt"
   ]
  },
  {
   "cell_type": "code",
   "execution_count": 12,
   "metadata": {},
   "outputs": [
    {
     "data": {
      "text/html": [
       "<div>\n",
       "<style scoped>\n",
       "    .dataframe tbody tr th:only-of-type {\n",
       "        vertical-align: middle;\n",
       "    }\n",
       "\n",
       "    .dataframe tbody tr th {\n",
       "        vertical-align: top;\n",
       "    }\n",
       "\n",
       "    .dataframe thead th {\n",
       "        text-align: right;\n",
       "    }\n",
       "</style>\n",
       "<table border=\"1\" class=\"dataframe\">\n",
       "  <thead>\n",
       "    <tr style=\"text-align: right;\">\n",
       "      <th></th>\n",
       "      <th>key</th>\n",
       "      <th>timestamp</th>\n",
       "      <th>event</th>\n",
       "      <th>attempt</th>\n",
       "    </tr>\n",
       "  </thead>\n",
       "  <tbody>\n",
       "    <tr>\n",
       "      <th>0</th>\n",
       "      <td>i</td>\n",
       "      <td>1.718017e+09</td>\n",
       "      <td>keydown</td>\n",
       "      <td>0</td>\n",
       "    </tr>\n",
       "    <tr>\n",
       "      <th>1</th>\n",
       "      <td>i</td>\n",
       "      <td>1.718017e+09</td>\n",
       "      <td>keyup</td>\n",
       "      <td>0</td>\n",
       "    </tr>\n",
       "    <tr>\n",
       "      <th>2</th>\n",
       "      <td>n</td>\n",
       "      <td>1.718017e+09</td>\n",
       "      <td>keydown</td>\n",
       "      <td>0</td>\n",
       "    </tr>\n",
       "    <tr>\n",
       "      <th>3</th>\n",
       "      <td>n</td>\n",
       "      <td>1.718017e+09</td>\n",
       "      <td>keyup</td>\n",
       "      <td>0</td>\n",
       "    </tr>\n",
       "    <tr>\n",
       "      <th>4</th>\n",
       "      <td>e</td>\n",
       "      <td>1.718017e+09</td>\n",
       "      <td>keydown</td>\n",
       "      <td>0</td>\n",
       "    </tr>\n",
       "    <tr>\n",
       "      <th>...</th>\n",
       "      <td>...</td>\n",
       "      <td>...</td>\n",
       "      <td>...</td>\n",
       "      <td>...</td>\n",
       "    </tr>\n",
       "    <tr>\n",
       "      <th>606</th>\n",
       "      <td>t</td>\n",
       "      <td>1.718017e+09</td>\n",
       "      <td>keydown</td>\n",
       "      <td>49</td>\n",
       "    </tr>\n",
       "    <tr>\n",
       "      <th>607</th>\n",
       "      <td>t</td>\n",
       "      <td>1.718017e+09</td>\n",
       "      <td>keyup</td>\n",
       "      <td>49</td>\n",
       "    </tr>\n",
       "    <tr>\n",
       "      <th>608</th>\n",
       "      <td>u</td>\n",
       "      <td>1.718017e+09</td>\n",
       "      <td>keydown</td>\n",
       "      <td>49</td>\n",
       "    </tr>\n",
       "    <tr>\n",
       "      <th>609</th>\n",
       "      <td>u</td>\n",
       "      <td>1.718017e+09</td>\n",
       "      <td>keyup</td>\n",
       "      <td>49</td>\n",
       "    </tr>\n",
       "    <tr>\n",
       "      <th>610</th>\n",
       "      <td>m</td>\n",
       "      <td>1.718017e+09</td>\n",
       "      <td>keydown</td>\n",
       "      <td>49</td>\n",
       "    </tr>\n",
       "  </tbody>\n",
       "</table>\n",
       "<p>611 rows × 4 columns</p>\n",
       "</div>"
      ],
      "text/plain": [
       "    key     timestamp    event  attempt\n",
       "0     i  1.718017e+09  keydown        0\n",
       "1     i  1.718017e+09    keyup        0\n",
       "2     n  1.718017e+09  keydown        0\n",
       "3     n  1.718017e+09    keyup        0\n",
       "4     e  1.718017e+09  keydown        0\n",
       "..   ..           ...      ...      ...\n",
       "606   t  1.718017e+09  keydown       49\n",
       "607   t  1.718017e+09    keyup       49\n",
       "608   u  1.718017e+09  keydown       49\n",
       "609   u  1.718017e+09    keyup       49\n",
       "610   m  1.718017e+09  keydown       49\n",
       "\n",
       "[611 rows x 4 columns]"
      ]
     },
     "execution_count": 12,
     "metadata": {},
     "output_type": "execute_result"
    }
   ],
   "source": [
    "df = pd.read_csv('./keystroke_data.csv')\n",
    "df = df.drop('correct', axis=1)\n",
    "df"
   ]
  },
  {
   "cell_type": "code",
   "execution_count": 13,
   "metadata": {},
   "outputs": [],
   "source": [
    "prev_attempt = 0\n",
    "first_time = 0\n",
    "last_time = 0\n",
    "exec_time = {}\n",
    "\n",
    "for i in range(len(df)):\n",
    "    attempt = df.loc[i,'attempt']\n",
    "    if attempt != prev_attempt:\n",
    "        exec_time[attempt] = {}\n",
    "        last_time = df.loc[i-1,'timestamp']\n",
    "        exec_time[attempt] = last_time - first_time\n",
    "        prev_attempt = attempt\n",
    "        first_time = df.loc[i,'timestamp']\n",
    "    elif attempt == 0:\n",
    "        first_time = df.loc[1,'timestamp']"
   ]
  },
  {
   "cell_type": "code",
   "execution_count": 14,
   "metadata": {},
   "outputs": [
    {
     "data": {
      "text/plain": [
       "[<matplotlib.lines.Line2D at 0x1a49e273050>]"
      ]
     },
     "execution_count": 14,
     "metadata": {},
     "output_type": "execute_result"
    },
    {
     "data": {
      "image/png": "[encoded data removed]",
      "text/plain": [
       "<Figure size 640x480 with 1 Axes>"
      ]
     },
     "metadata": {},
     "output_type": "display_data"
    }
   ],
   "source": [
    "plt.plot(exec_time.keys(), exec_time.values())"
   ]
  }
 ],
 "metadata": {
  "kernelspec": {
   "display_name": "base",
   "language": "python",
   "name": "python3"
  },
  "language_info": {
   "codemirror_mode": {
    "name": "ipython",
    "version": 3
   },
   "file_extension": ".py",
   "mimetype": "text/x-python",
   "name": "python",
   "nbconvert_exporter": "python",
   "pygments_lexer": "ipython3",
   "version": "3.11.5"
  }
 },
 "nbformat": 4,
 "nbformat_minor": 2
}
